{
 "cells": [
  {
   "cell_type": "code",
   "execution_count": null,
   "metadata": {
    "collapsed": true
   },
   "outputs": [],
   "source": [
    "from shutil import copyfile\n",
    "import numpy as np\n",
    "import os \n",
    "os.getcwd()"
   ]
  },
  {
   "cell_type": "code",
   "execution_count": null,
   "metadata": {
    "collapsed": true
   },
   "outputs": [],
   "source": [
    "def classify_files(folder_path , save_folder , include_key , notInclude_key ):\n",
    "        paths=crawl_folder(folder_path)\n",
    "        n_include=len(include_key)\n",
    "        n_notInclude=len(notInclude_key)\n",
    "        print n_include+n_notInclude\n",
    "        for i,file_path in enumerate(paths): #include    \n",
    "            count=0\n",
    "            file_name=file_path.split('/')[-1]\n",
    "            for key in include_key:\n",
    "                if key in file_name:\n",
    "                    count+=1\n",
    "            for key_  in notInclude_key:\n",
    "                if key_ not in file_name:\n",
    "                    count+=1\n",
    "            if count == n_include+n_notInclude:\n",
    "                print file_path\n",
    "                folder1=file_path.split('/')[-3]                \n",
    "                folder2=file_path.split('/')[-2]\n",
    "                name=file_path.split('/')[-1]\n",
    "                save_name=save_folder+'/'+folder1+'_'+folder2+'_'+name\n",
    "                copyfile(file_path, save_name)"
   ]
  },
  {
   "cell_type": "code",
   "execution_count": null,
   "metadata": {
    "collapsed": true
   },
   "outputs": [],
   "source": [
    "def crawl_folder(folder_path): #search_str 찾고자 하는 string \n",
    "    search_path_list=[]\n",
    "    fileList = os.walk(folder_path).next()[2]\n",
    "    subFolder_list = os.walk(folder_path).next()[1]\n",
    "    if(len(fileList)!=0):\n",
    "        for j in range(len(fileList)):\n",
    "            search_path_list.append(folder_path+'/'+fileList[j])\n",
    "    if len(subFolder_list)==0:\n",
    "        return search_path_list\n",
    "    else: \n",
    "        for i in range(len(subFolder_list)):\n",
    "            search_path_list.extend(crawl_folder(folder_path+'/'+subFolder_list[i] ))\n",
    "        return search_path_list\n"
   ]
  },
  {
   "cell_type": "code",
   "execution_count": null,
   "metadata": {
    "collapsed": true
   },
   "outputs": [],
   "source": [
    "folder_path='./ASAN_DATA/Malignant_crop'\n",
    "benign_paths=crawl_folder(folder_path)\n",
    "save_path= './ASAN_DATA/Malignant_from_down'\n",
    "include_key=['target']\n",
    "notInclude_key=['rect' ,'up','crop' ,'mask']\n",
    "\n",
    "classify_files( folder_path , save_path , include_key , notInclude_key  )\n"
   ]
  },
  {
   "cell_type": "code",
   "execution_count": null,
   "metadata": {
    "collapsed": true
   },
   "outputs": [],
   "source": [
    "folder_path='./ASAN_DATA/Benign_crop'\n",
    "benign_paths=crawl_folder(folder_path)\n",
    "save_path= './ASAN_DATA/benign_from_down'\n",
    "include_key=['target']\n",
    "notInclude_key=['rect' ,'up','crop' ,'mask']\n",
    "\n",
    "classify_files( folder_path , save_path , include_key , notInclude_key  )\n"
   ]
  },
  {
   "cell_type": "code",
   "execution_count": null,
   "metadata": {
    "collapsed": true
   },
   "outputs": [],
   "source": [
    "folder_path='./ASAN_DATA/Malignant_crop'\n",
    "benign_paths=crawl_folder(folder_path)\n",
    "save_path= './ASAN_DATA/Malignant_from_up'\n",
    "include_key=['target','up']\n",
    "notInclude_key=['rect' ,'crop' ,'mask']\n",
    "\n",
    "classify_files( folder_path , save_path , include_key , notInclude_key  )\n"
   ]
  },
  {
   "cell_type": "code",
   "execution_count": null,
   "metadata": {
    "collapsed": true
   },
   "outputs": [],
   "source": [
    "folder_path='./ASAN_DATA/Benign_crop'\n",
    "benign_paths=crawl_folder(folder_path)\n",
    "save_path= './ASAN_DATA/benign_from_up'\n",
    "include_key=['target','up']\n",
    "notInclude_key=['rect' ,'crop' ,'mask']\n",
    "\n",
    "classify_files( folder_path , save_path , include_key , notInclude_key  )\n"
   ]
  },
  {
   "cell_type": "code",
   "execution_count": null,
   "metadata": {
    "collapsed": true
   },
   "outputs": [],
   "source": [
    "folder_path='./ASAN_DATA/Malignant_crop'\n",
    "benign_paths=crawl_folder(folder_path)\n",
    "save_path= './ASAN_DATA/Malignant_from_mask'\n",
    "include_key=['mask']\n",
    "notInclude_key=['rect' ,'crop','target']\n",
    "\n",
    "classify_files( folder_path , save_path , include_key , notInclude_key  )\n"
   ]
  },
  {
   "cell_type": "code",
   "execution_count": null,
   "metadata": {
    "collapsed": true
   },
   "outputs": [],
   "source": [
    "folder_path='./ASAN_DATA/Benign_crop'\n",
    "benign_paths=crawl_folder(folder_path)\n",
    "save_path= './ASAN_DATA/benign_from_up'\n",
    "include_key=['mask']\n",
    "notInclude_key=['rect' ,'crop','target']\n",
    "\n",
    "classify_files( folder_path , save_path , include_key , notInclude_key  )\n"
   ]
  },
  {
   "cell_type": "code",
   "execution_count": null,
   "metadata": {
    "collapsed": true
   },
   "outputs": [],
   "source": [
    "folder_path='./ASAN_DATA/Malignant_crop'\n",
    "benign_paths=crawl_folder(folder_path)\n",
    "save_path= './ASAN_DATA/Malignant_crop_from_down'\n",
    "include_key=['target' ,'crop' ]\n",
    "notInclude_key=['rect' ,'up' ,'mask']\n",
    "\n",
    "classify_files( folder_path , save_path , include_key , notInclude_key  )\n"
   ]
  },
  {
   "cell_type": "code",
   "execution_count": null,
   "metadata": {
    "collapsed": true
   },
   "outputs": [],
   "source": [
    "folder_path='./ASAN_DATA/Benign_crop'\n",
    "benign_paths=crawl_folder(folder_path)\n",
    "save_path= './ASAN_DATA/bengin_crop_from_down'\n",
    "include_key=['target' ,'crop' ]\n",
    "notInclude_key=['rect' ,'up' ,'mask']\n",
    "\n",
    "classify_files( folder_path , save_path , include_key , notInclude_key  )\n"
   ]
  },
  {
   "cell_type": "code",
   "execution_count": null,
   "metadata": {
    "collapsed": true
   },
   "outputs": [],
   "source": [
    "folder_path='./ASAN_DATA/Malignant_crop'\n",
    "benign_paths=crawl_folder(folder_path)\n",
    "save_path= './ASAN_DATA/Malignant_crop_from_up'\n",
    "include_key=['target' ,'crop' ,'up']\n",
    "notInclude_key=['rect' ,'mask']\n",
    "\n",
    "classify_files( folder_path , save_path , include_key , notInclude_key  )\n"
   ]
  },
  {
   "cell_type": "code",
   "execution_count": null,
   "metadata": {
    "collapsed": true
   },
   "outputs": [],
   "source": [
    "folder_path='./ASAN_DATA/Benign_crop'\n",
    "benign_paths=crawl_folder(folder_path)\n",
    "save_path= './ASAN_DATA/bengin_crop_from_up'\n",
    "include_key=['target' ,'crop' ,'up']\n",
    "notInclude_key=['rect' ,'mask']\n",
    "\n",
    "classify_files( folder_path , save_path , include_key , notInclude_key  )\n"
   ]
  },
  {
   "cell_type": "code",
   "execution_count": null,
   "metadata": {
    "collapsed": true
   },
   "outputs": [],
   "source": [
    "folder_path='./ASAN_DATA/Malignant_crop'\n",
    "benign_paths=crawl_folder(folder_path)\n",
    "save_path= './ASAN_DATA/Malignant_crop_from_mask'\n",
    "include_key=['mask','crop']\n",
    "notInclude_key=['rect' ,'target']\n",
    "\n",
    "classify_files( folder_path , save_path , include_key , notInclude_key  )\n"
   ]
  },
  {
   "cell_type": "code",
   "execution_count": null,
   "metadata": {
    "collapsed": true
   },
   "outputs": [],
   "source": [
    "folder_path='./ASAN_DATA/Benign_crop'\n",
    "benign_paths=crawl_folder(folder_path)\n",
    "save_path= './ASAN_DATA/bengin_crop_from_mask'\n",
    "include_key=['mask','crop']\n",
    "notInclude_key=['rect' ,'target']\n",
    "\n",
    "classify_files( folder_path , save_path , include_key , notInclude_key  )\n"
   ]
  },
  {
   "cell_type": "code",
   "execution_count": null,
   "metadata": {
    "collapsed": true
   },
   "outputs": [],
   "source": []
  },
  {
   "cell_type": "code",
   "execution_count": null,
   "metadata": {
    "collapsed": true
   },
   "outputs": [],
   "source": []
  },
  {
   "cell_type": "code",
   "execution_count": null,
   "metadata": {
    "collapsed": true
   },
   "outputs": [],
   "source": []
  }
 ],
 "metadata": {
  "anaconda-cloud": {},
  "kernelspec": {
   "display_name": "Python [conda root]",
   "language": "python",
   "name": "conda-root-py"
  },
  "language_info": {
   "codemirror_mode": {
    "name": "ipython",
    "version": 2
   },
   "file_extension": ".py",
   "mimetype": "text/x-python",
   "name": "python",
   "nbconvert_exporter": "python",
   "pygments_lexer": "ipython2",
   "version": "2.7.12"
  }
 },
 "nbformat": 4,
 "nbformat_minor": 1
}
