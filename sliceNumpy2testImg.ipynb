{
 "cells": [
  {
   "cell_type": "code",
   "execution_count": 1,
   "metadata": {
    "collapsed": true
   },
   "outputs": [],
   "source": [
    "import os \n",
    "import numpy as np\n",
    "import matplotlib.pyplot as plt\n",
    "import random \n"
   ]
  },
  {
   "cell_type": "code",
   "execution_count": 2,
   "metadata": {
    "collapsed": true
   },
   "outputs": [],
   "source": [
    "def crawl_folder(folder_path): #search_str 찾고자 하는 string \n",
    "    search_path_list=[]\n",
    "    fileList = os.walk(folder_path).next()[2]\n",
    "    subFolder_list = os.walk(folder_path).next()[1]\n",
    "    if(len(fileList)!=0):\n",
    "        for j in range(len(fileList)):\n",
    "            search_path_list.append(folder_path+'/'+fileList[j])\n",
    "    if len(subFolder_list)==0:\n",
    "        return search_path_list\n",
    "    else: \n",
    "        for i in range(len(subFolder_list)):\n",
    "            search_path_list.extend(crawl_folder(folder_path+'/'+subFolder_list[i] ))\n",
    "        return search_path_list\n"
   ]
  },
  {
   "cell_type": "code",
   "execution_count": 6,
   "metadata": {
    "collapsed": false
   },
   "outputs": [
    {
     "name": "stdout",
     "output_type": "stream",
     "text": [
      "176\n"
     ]
    }
   ],
   "source": [
    "mal_path = '/home/user01/hdd1/slice_mal/001_3518_target_3518_np/'\n",
    "mal_paths=crawl_folder(mal_path)\n",
    "sliced_np=np.zeros([len(mal_paths) , 64,64,1])\n",
    "print len(mal_paths)\n",
    "for i,path in enumerate(mal_paths):\n",
    "    img=np.reshape(np.load(path) , newshape=(64,64,1))\n",
    "    sliced_np[i]=img\n",
    "    "
   ]
  },
  {
   "cell_type": "code",
   "execution_count": 8,
   "metadata": {
    "collapsed": false
   },
   "outputs": [],
   "source": [
    "mal_save_path = '/home/user01/hdd1/slice_numpy/mal/'\n",
    "name='001_3518_target_3518_np'\n",
    "np.shape(sliced_np)\n",
    "np.save(mal_save_path+name,sliced_np)"
   ]
  },
  {
   "cell_type": "code",
   "execution_count": 9,
   "metadata": {
    "collapsed": false
   },
   "outputs": [
    {
     "name": "stdout",
     "output_type": "stream",
     "text": [
      "176\n"
     ]
    }
   ],
   "source": [
    "mal_path = '/home/user01/hdd1/slice_mal/002_4667_target_4667_np//'\n",
    "mal_paths=crawl_folder(mal_path)\n",
    "sliced_np=np.zeros([len(mal_paths) , 64,64,1])\n",
    "print len(mal_paths)\n",
    "for i,path in enumerate(mal_paths):\n",
    "    img=np.reshape(np.load(path) , newshape=(64,64,1))\n",
    "    sliced_np[i]=img\n",
    "    "
   ]
  },
  {
   "cell_type": "code",
   "execution_count": 10,
   "metadata": {
    "collapsed": true
   },
   "outputs": [],
   "source": [
    "mal_save_path = '/home/user01/hdd1/slice_numpy/mal/'\n",
    "name='002_4667_target_4667_np'\n",
    "np.shape(sliced_np)\n",
    "np.save(mal_save_path+name,sliced_np)"
   ]
  },
  {
   "cell_type": "code",
   "execution_count": 11,
   "metadata": {
    "collapsed": false
   },
   "outputs": [
    {
     "name": "stdout",
     "output_type": "stream",
     "text": [
      "176\n"
     ]
    }
   ],
   "source": [
    "mal_path = '/home/user01/hdd1/slice_mal/002_4668_target_4668_np/'\n",
    "mal_paths=crawl_folder(mal_path)\n",
    "sliced_np=np.zeros([len(mal_paths) , 64,64,1])\n",
    "print len(mal_paths)\n",
    "for i,path in enumerate(mal_paths):\n",
    "    img=np.reshape(np.load(path) , newshape=(64,64,1))\n",
    "    sliced_np[i]=img\n",
    "    "
   ]
  },
  {
   "cell_type": "code",
   "execution_count": 12,
   "metadata": {
    "collapsed": true
   },
   "outputs": [],
   "source": [
    "mal_save_path = '/home/user01/hdd1/slice_numpy/mal/'\n",
    "name='002_4668_target_4668_np'\n",
    "np.shape(sliced_np)\n",
    "np.save(mal_save_path+name,sliced_np)"
   ]
  },
  {
   "cell_type": "code",
   "execution_count": 13,
   "metadata": {
    "collapsed": false
   },
   "outputs": [
    {
     "name": "stdout",
     "output_type": "stream",
     "text": [
      "176\n"
     ]
    }
   ],
   "source": [
    "mal_path = '/home/user01/hdd1/slice_mal/003_371_target_371_np//'\n",
    "mal_paths=crawl_folder(mal_path)\n",
    "sliced_np=np.zeros([len(mal_paths) , 64,64,1])\n",
    "print len(mal_paths)\n",
    "for i,path in enumerate(mal_paths):\n",
    "    img=np.reshape(np.load(path) , newshape=(64,64,1))\n",
    "    sliced_np[i]=img\n",
    "    "
   ]
  },
  {
   "cell_type": "code",
   "execution_count": 14,
   "metadata": {
    "collapsed": true
   },
   "outputs": [],
   "source": [
    "mal_save_path = '/home/user01/hdd1/slice_numpy/mal/'\n",
    "name='003_371_target_371_np'\n",
    "np.shape(sliced_np)\n",
    "np.save(mal_save_path+name,sliced_np)"
   ]
  },
  {
   "cell_type": "code",
   "execution_count": null,
   "metadata": {
    "collapsed": true
   },
   "outputs": [],
   "source": []
  }
 ],
 "metadata": {
  "kernelspec": {
   "display_name": "Python 2",
   "language": "python",
   "name": "python2"
  },
  "language_info": {
   "codemirror_mode": {
    "name": "ipython",
    "version": 2
   },
   "file_extension": ".py",
   "mimetype": "text/x-python",
   "name": "python",
   "nbconvert_exporter": "python",
   "pygments_lexer": "ipython2",
   "version": "2.7.6"
  }
 },
 "nbformat": 4,
 "nbformat_minor": 1
}
