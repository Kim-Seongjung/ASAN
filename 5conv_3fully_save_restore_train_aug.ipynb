{
 "cells": [
  {
   "cell_type": "code",
   "execution_count": 1,
   "metadata": {
    "collapsed": false
   },
   "outputs": [
    {
     "name": "stdout",
     "output_type": "stream",
     "text": [
      "64 64\n",
      "64 64\n"
     ]
    }
   ],
   "source": [
    "#conv Neural Network\n",
    "# tensorboard --logdir=/home/ncc/notebook/learn/tensorboard/log\n",
    "\"\"\"\n",
    "created by kim Seong jung\n",
    "\n",
    "\"\"\"\n",
    "import numpy as np \n",
    "import tensorflow as tf\n",
    "import re\n",
    "import random\n",
    "import math\n",
    "import time\n",
    "import matplotlib.pyplot as plt\n",
    "%matplotlib inline\n",
    "import os\n",
    "\n",
    "file_locate='/home/user01/hdd1/train_model/'\n",
    "sess = tf.InteractiveSession()\n",
    "aug_flag=False\n",
    "model_number=2\n",
    "if aug_flag == True :\n",
    "\n",
    "    img_row = 64\n",
    "    img_col = 64\n",
    "    in_ch =1\n",
    "else:\n",
    "    img_row = 64\n",
    "    img_col = 64\n",
    "    in_ch =1\n",
    "    \n",
    "divide_flag= False\n",
    "restore_flag =True\n",
    "save_flag=True\n",
    "learning_rate=1e-4\n",
    "\n",
    "model_save_path='/home/user01/hdd1/aug_model_save/'+str(model_number)+'/'\n",
    "if os.path.isdir(model_save_path)==False:\n",
    "    print 'a'\n",
    "    os.mkdir(model_save_path)\n",
    "if restore_flag ==True:\n",
    "    restore_path=model_save_path\n",
    "batch_size=60\n",
    "print img_row ,img_col\n",
    "n_classes =2\n",
    "\n",
    "out_ch1=200\n",
    "out_ch2=200\n",
    "out_ch3=200\n",
    "out_ch4=200\n",
    "out_ch5=200\n",
    "\n",
    "\n",
    "fully_ch1=1024\n",
    "fully_ch2 =1024\n",
    "fully_ch3 =1024\n",
    "\n",
    "\n",
    "\n",
    "strides_1=[1,2,2,1]\n",
    "strides_2=[1,1,1,1]\n",
    "strides_3=[1,1,1,1]\n",
    "strides_4=[1,1,1,1]\n",
    "strides_5=[1,1,1,1]\n",
    "\n",
    "\n",
    "x= tf.placeholder(\"float\",shape=[None,img_col , img_row , in_ch],  name = 'x-input')\n",
    "y_=tf.placeholder(\"float\",shape=[None , n_classes] , name = 'y-input')\n",
    "keep_prob = tf.placeholder(\"float\")\n",
    "\n",
    "x_image= tf.reshape(x,[-1,img_row,img_col,in_ch])\n",
    "\n",
    "iterate=100000\n",
    "\n",
    "\n",
    "\n",
    "weight_row =3 ; weight_col=3\n",
    "\n",
    "\n",
    "pooling_row_size1=int(img_row/2)\n",
    "pooling_row_size2=int(pooling_row_size1/2)\n",
    "pooling_row_size3=int(pooling_row_size2/2)\n",
    "pooling_row_size4=int(pooling_row_size3/2)\n",
    "pooling_row_size5=int(pooling_row_size4/2)\n",
    "pooling_col_size1=int(img_col/2)\n",
    "pooling_col_size2=int(pooling_col_size1/2)\n",
    "pooling_col_size3=int(pooling_col_size2/2)\n",
    "pooling_col_size4=int(pooling_col_size3/2)\n",
    "pooling_col_size5=int(pooling_col_size4/2)\n",
    "\n",
    "print img_col , img_row"
   ]
  },
  {
   "cell_type": "markdown",
   "metadata": {},
   "source": [
    "# Restore Weight and Bias"
   ]
  },
  {
   "cell_type": "code",
   "execution_count": 2,
   "metadata": {
    "collapsed": false
   },
   "outputs": [
    {
     "data": {
      "text/plain": [
       "'/home/user01/ASAN/ASAN'"
      ]
     },
     "execution_count": 2,
     "metadata": {},
     "output_type": "execute_result"
    }
   ],
   "source": [
    "import os \n",
    "os.getcwd()"
   ]
  },
  {
   "cell_type": "code",
   "execution_count": null,
   "metadata": {
    "collapsed": true
   },
   "outputs": [],
   "source": []
  },
  {
   "cell_type": "code",
   "execution_count": null,
   "metadata": {
    "collapsed": true
   },
   "outputs": [],
   "source": []
  },
  {
   "cell_type": "code",
   "execution_count": 3,
   "metadata": {
    "collapsed": false
   },
   "outputs": [
    {
     "name": "stdout",
     "output_type": "stream",
     "text": [
      "(50000, 64, 64, 1)\n",
      "(50000, 2)\n"
     ]
    }
   ],
   "source": [
    "val_img=np.load('/home/user01/hdd1/train_model/train_img_3.npy')\n",
    "print np.shape(val_img)\n",
    "val_lab=np.load('/home/user01/hdd1/train_model/train_lab_3.npy')\n",
    "print np.shape(val_lab)\n"
   ]
  },
  {
   "cell_type": "code",
   "execution_count": 4,
   "metadata": {
    "collapsed": false
   },
   "outputs": [
    {
     "name": "stdout",
     "output_type": "stream",
     "text": [
      "(50000, 64, 64, 1)\n"
     ]
    }
   ],
   "source": [
    "train_img=np.load('/home/user01/hdd1/train_model/train_img_2.npy')\n",
    "print np.shape(train_img)\n"
   ]
  },
  {
   "cell_type": "code",
   "execution_count": 5,
   "metadata": {
    "collapsed": false
   },
   "outputs": [
    {
     "name": "stdout",
     "output_type": "stream",
     "text": [
      "(50000, 2)\n"
     ]
    }
   ],
   "source": [
    "train_lab=np.load('/home/user01/hdd1/train_model/train_lab_2.npy')\n",
    "print np.shape(train_lab)\n"
   ]
  },
  {
   "cell_type": "code",
   "execution_count": null,
   "metadata": {
    "collapsed": false,
    "scrolled": false
   },
   "outputs": [],
   "source": []
  },
  {
   "cell_type": "code",
   "execution_count": 7,
   "metadata": {
    "collapsed": false
   },
   "outputs": [],
   "source": [
    "\"\"\"def weight_variable(name,shape):\n",
    "    #initial = tf.truncated_normal(shape , stddev=0.1)\n",
    "    initial = tf.get_variable(name,shape=shape , initializer = tf.contrib.layers.xavier_initializer())\n",
    "    return tf.Variable(initial)\"\"\"\n",
    "with tf.device('/gpu:1'):\n",
    "    def bias_variable(shape):\n",
    "        initial = tf.constant(0.1 , shape=shape)\n",
    "        return tf.Variable(initial)\n",
    "\n"
   ]
  },
  {
   "cell_type": "code",
   "execution_count": 8,
   "metadata": {
    "collapsed": false
   },
   "outputs": [],
   "source": [
    "with tf.device('/gpu:1'):\n",
    "    def next_batch(batch_size , image , label):\n",
    "        \n",
    "        batch_x = np.zeros([batch_size,64,64,1])\n",
    "        batch_y = np.zeros([batch_size,2])\n",
    "\n",
    "        indexs=np.random.choice(40000,batch_size)\n",
    "        for i,ind in enumerate(indexs):\n",
    "            batch_x[i] = image[ind]\n",
    "            batch_y[i] = label[ind]\n",
    "        return batch_x, batch_y\n"
   ]
  },
  {
   "cell_type": "code",
   "execution_count": 9,
   "metadata": {
    "collapsed": false
   },
   "outputs": [],
   "source": [
    "with tf.device('/gpu:1'):\n",
    "\n",
    "    def conv2d(x,w,strides_):\n",
    "        return tf.nn.conv2d(x,w, strides = strides_, padding='SAME')\n",
    "    def max_pool_2x2(x):\n",
    "        return tf.nn.max_pool(x , ksize=[1,2,2,1] ,strides = [1,2,2,1] , padding = 'SAME')"
   ]
  },
  {
   "cell_type": "code",
   "execution_count": 10,
   "metadata": {
    "collapsed": false
   },
   "outputs": [],
   "source": [
    "\n",
    "with tf.device('/gpu:1'):\n",
    "    if restore_flag==False:\n",
    "        with tf.variable_scope(\"layer1\") as scope:\n",
    "            try:\n",
    "                w_conv1 = tf.get_variable(\"W1\",[weight_row,weight_col,in_ch,out_ch1] , initializer = tf.contrib.layers.xavier_initializer())\n",
    "            except:\n",
    "                scope.reuse_variables()\n",
    "        with tf.variable_scope(\"layer1\") as scope:\n",
    "            try:\n",
    "                b_conv1 = bias_variable([out_ch1])\n",
    "            except:\n",
    "                scope.reuse_variables()\n",
    "                b_conv1 = bias_variable([out_ch1])\n",
    "        with tf.variable_scope('layer2') as scope:\n",
    "            try:\n",
    "                w_conv2 = tf.get_variable(\"W2\",[weight_row,weight_col,out_ch1,out_ch2] , initializer = tf.contrib.layers.xavier_initializer())\n",
    "            except:\n",
    "                scope.reuse_variables()\n",
    "                w_conv2 = tf.get_variable(\"W2\",[weight_row,weight_col,out_ch1,out_ch2] , initializer = tf.contrib.layers.xavier_initializer())\n",
    "\n",
    "        with tf.variable_scope('layer2') as scope:\n",
    "            try:\n",
    "                b_conv2= bias_variable([out_ch2])\n",
    "            except:\n",
    "                scope.reuse_variables()\n",
    "                b_conv2= bias_variable([out_ch2])\n",
    "\n",
    "        with tf.variable_scope('layer3') as scope:\n",
    "            try:\n",
    "                w_conv3 = tf.get_variable(\"W3\" ,[weight_row,weight_col,out_ch2,out_ch3] , initializer = tf.contrib.layers.xavier_initializer())\n",
    "            except:\n",
    "                scope.reuse_variables()\n",
    "                w_conv3 = tf.get_variable(\"W3\" ,[weight_row,weight_col,out_ch2,out_ch3] , initializer = tf.contrib.layers.xavier_initializer())\n",
    "        with tf.variable_scope('layer3') as scope:\n",
    "            try:\n",
    "                b_conv3 = bias_variable([out_ch3])\n",
    "            except:\n",
    "                scope.reuse_variables()\n",
    "                b_conv3 = bias_variable([out_ch3])\n",
    "\n",
    "        with tf.variable_scope('layer4') as scope:\n",
    "            try:\n",
    "                w_conv4 =tf.get_variable(\"W4\" ,[weight_row,weight_col,out_ch3,out_ch4] , initializer = tf.contrib.layers.xavier_initializer())\n",
    "            except:\n",
    "                scope.reuse_variables()\n",
    "                w_conv3 = tf.get_variable(\"W4\" ,[weight_row,weight_col,out_ch3,out_ch4] , initializer = tf.contrib.layers.xavier_initializer())\n",
    "        with tf.variable_scope('layer4') as scope:\n",
    "            try:\n",
    "                b_conv4 = bias_variable([out_ch4])\n",
    "            except:\n",
    "                scope.reuse_variables()\n",
    "                b_conv3 = bias_variable([out_ch4])\n",
    "\n",
    "        with tf.variable_scope('layer5') as scope:\n",
    "            try:\n",
    "                w_conv5 = tf.get_variable(\"W5\",[weight_row,weight_col,out_ch4,out_ch5] , initializer = tf.contrib.layers.xavier_initializer())\n",
    "            except:\n",
    "                scope.reuse_variables()\n",
    "                w_conv3 = tf.get_variable(\"W5\" ,[weight_row,weight_col,out_ch4,out_ch5] , initializer = tf.contrib.layers.xavier_initializer())\n",
    "        with tf.variable_scope('layer5') as scope:\n",
    "            try:\n",
    "                b_conv5 = bias_variable([out_ch5])\n",
    "            except:\n",
    "                scope.reuse_variables()\n",
    "                b_conv3 = bias_variable([out_ch5])\n"
   ]
  },
  {
   "cell_type": "code",
   "execution_count": 11,
   "metadata": {
    "collapsed": false
   },
   "outputs": [],
   "source": [
    "\n",
    "with tf.device('/gpu:1'):\n",
    "    if restore_flag==True:\n",
    "        \"model was restroed\"\n",
    "        with tf.variable_scope(\"layer1\") as scope:\n",
    "            try:\n",
    "                w_conv1 = tf.Variable(np.load(restore_path+'/w_conv1.npy'),name=\"W1\")\n",
    "            except:\n",
    "                scope.reuse_variables()\n",
    "                w_conv1 = tf.Variable(np.load(restore_path+'/w_conv1.npy'),name=\"W1\")\n",
    "        with tf.variable_scope(\"layer1\") as scope:\n",
    "            try:\n",
    "                b_conv1 = tf.Variable(np.load(restore_path+'/b_conv1.npy'),name=\"B1\")\n",
    "            except:\n",
    "                scope.reuse_variables()\n",
    "                b_conv1 =tf.Variable(np.load(restore_path+'/b_conv1.npy'),name=\"B1\")\n",
    "        with tf.variable_scope(\"layer2\") as scope:\n",
    "            try:\n",
    "                w_conv2 = tf.Variable(np.load(restore_path+'/w_conv2.npy'),name=\"W2\")\n",
    "            except:\n",
    "                scope.reuse_variables()\n",
    "                w_conv2 = tf.Variable(np.load(restore_path+'/w_conv2.npy'),name=\"W2\")\n",
    "        with tf.variable_scope(\"layer2\") as scope:\n",
    "            try:\n",
    "                b_conv2 = tf.Variable(np.load(restore_path+'/b_conv2.npy'),name=\"B2\")\n",
    "            except:\n",
    "                scope.reuse_variables()\n",
    "                b_conv2 =tf.Variable(np.load(restore_path+'/b_conv2.npy'),name=\"B2\")\n",
    "        with tf.variable_scope(\"layer3\") as scope:\n",
    "            try:\n",
    "                w_conv3 = tf.Variable(np.load(restore_path+'/w_conv3.npy'),name=\"W3\")\n",
    "            except:\n",
    "                scope.reuse_variables()\n",
    "                w_conv3 = tf.Variable(np.load(restore_path+'/w_conv3.npy'),name=\"W3\")\n",
    "        with tf.variable_scope(\"layer3\") as scope:\n",
    "            try:\n",
    "                b_conv3 = tf.Variable(np.load(restore_path+'/b_conv3.npy'),name=\"B3\")\n",
    "            except:\n",
    "                scope.reuse_variables()\n",
    "                b_conv3 =tf.Variable(np.load(restore_path+'/b_conv3.npy'),name=\"B3\")\n",
    "        with tf.variable_scope(\"layer4\") as scope:\n",
    "            try:\n",
    "                w_conv4 = tf.Variable(np.load(restore_path+'/w_conv4.npy'),name=\"W4\")\n",
    "            except:\n",
    "                scope.reuse_variables()\n",
    "                w_conv4 = tf.Variable(np.load(restore_path+'/w_conv4.npy'),name=\"W4\")\n",
    "        with tf.variable_scope(\"layer4\") as scope:\n",
    "            try:\n",
    "                b_conv4 = tf.Variable(np.load(restore_path+'/b_conv4.npy'),name=\"B4\")\n",
    "            except:\n",
    "                scope.reuse_variables()\n",
    "                b_conv4 =tf.Variable(np.load(restore_path+'/b_conv4.npy'),name=\"B4\")\n",
    "        with tf.variable_scope(\"layer5\") as scope:\n",
    "            try:\n",
    "                w_conv5 = tf.Variable(np.load(restore_path+'/w_conv5.npy'),name=\"W5\")\n",
    "            except:\n",
    "                scope.reuse_variables()\n",
    "                w_conv5 = tf.Variable(np.load(restore_path+'/w_conv5.npy'),name=\"W5\")\n",
    "        with tf.variable_scope(\"layer5\") as scope:\n",
    "            try:\n",
    "                b_conv5 = tf.Variable(np.load(restore_path+'/b_conv5.npy'),name=\"B5\")\n",
    "            except:\n",
    "                scope.reuse_variables()\n",
    "                b_conv5 =tf.Variable(np.load(restore_path+'/b_conv5.npy'),name=\"B5\")"
   ]
  },
  {
   "cell_type": "code",
   "execution_count": 12,
   "metadata": {
    "collapsed": false
   },
   "outputs": [
    {
     "name": "stdout",
     "output_type": "stream",
     "text": [
      "Tensor(\"Relu:0\", shape=(?, 32, 32, 200), dtype=float32, device=/device:GPU:1)\n",
      "Tensor(\"MaxPool:0\", shape=(?, 16, 16, 200), dtype=float32, device=/device:GPU:1)\n",
      "Tensor(\"Relu_2:0\", shape=(?, 16, 16, 200), dtype=float32, device=/device:GPU:1)\n",
      "Tensor(\"Relu_3:0\", shape=(?, 16, 16, 200), dtype=float32, device=/device:GPU:1)\n",
      "Tensor(\"MaxPool_2:0\", shape=(?, 8, 8, 200), dtype=float32, device=/device:GPU:1)\n"
     ]
    }
   ],
   "source": [
    "#conncect hidden layer \n",
    "with tf.device('/gpu:1'):\n",
    "    h_conv1 = tf.nn.relu(conv2d(x_image , w_conv1 ,strides_1)+b_conv1)\n",
    "    h_conv2 = tf.nn.relu(conv2d(h_conv1 , w_conv2 ,strides_2)+b_conv2)\n",
    "    h_conv2 = max_pool_2x2(h_conv2)#pooling\n",
    "    \n",
    "    h_conv3 = tf.nn.relu(conv2d(h_conv2 , w_conv3,strides_3)+b_conv3)\n",
    "    h_conv4 = tf.nn.relu(conv2d(h_conv3 , w_conv4,strides_4)+b_conv4)\n",
    "    h_pool4 = max_pool_2x2(h_conv4) #pooling \n",
    "\n",
    "    h_conv5 = tf.nn.relu(conv2d(h_conv4, w_conv5,strides_5)+b_conv5)\n",
    "    h_conv5= max_pool_2x2(h_conv5) #pooling \n",
    "\n",
    "    print h_conv1\n",
    "    print h_conv2\n",
    "    print h_conv3\n",
    "    print h_conv4\n",
    "    print h_conv5\n",
    "    \n"
   ]
  },
  {
   "cell_type": "code",
   "execution_count": 13,
   "metadata": {
    "collapsed": false
   },
   "outputs": [],
   "source": [
    "end_conv = h_conv5\n",
    "#print conv2d(h_pool1 , w_conv2).get_shape()\n",
    "end_conv_row=int(h_conv5.get_shape()[1])\n",
    "end_conv_col=int(h_conv5.get_shape()[2])\n",
    "end_conv_ch=int(h_conv5.get_shape()[3])\n",
    "#connect fully connected layer "
   ]
  },
  {
   "cell_type": "code",
   "execution_count": 14,
   "metadata": {
    "collapsed": false
   },
   "outputs": [],
   "source": [
    "#connect fully connected layer \n",
    "if restore_flag==False:\n",
    "    with tf.device('/gpu:1'):\n",
    "        with tf.variable_scope(\"fc1\") as scope:\n",
    "            try:\n",
    "                w_fc1=tf.get_variable(\"fc1_W\",[end_conv_col*end_conv_row*end_conv_ch,fully_ch1] , initializer = tf.contrib.layers.xavier_initializer())\n",
    "            except:\n",
    "                scope.reuse_variables()\n",
    "                w_fc1=tf.get_variable(\"fc1_W\",[end_conv_col*end_conv_row*end_conv_ch,fully_ch1] , initializer = tf.contrib.layers.xavier_initializer())\n",
    "            try:\n",
    "                b_fc1 = bias_variable([fully_ch1])\n",
    "            except:\n",
    "                scope.reuse_variables()\n",
    "                b_fc1 = bias_variable([fully_ch1])\n",
    "elif restore_flag==True:\n",
    "    with tf.device('/gpu:1'):\n",
    "        with tf.variable_scope(\"fc1\") as scope:\n",
    "            try:\n",
    "                w_fc1=tf.Variable(np.load(restore_path+'/w_fc1.npy'),name=\"fc1_W\")\n",
    "            except:\n",
    "                scope.reuse_variables()\n",
    "                w_fc1=tf.Variable(np.load(restore_path+'/w_fc1.npy'),name=\"fc1_W\")\n",
    "            try:\n",
    "                b_fc1=tf.Variable(np.load(restore_path+'/b_fc1.npy'),name=\"fc1_B\")\n",
    "            except:\n",
    "                scope.reuse_variables()\n",
    "                b_fc1=tf.Variable(np.load(restore_path+'/b_fc1.npy'),name=\"fc1_B\")\n",
    "\n",
    "        \n",
    "with tf.device('/gpu:1'): # flat conv layer \n",
    "    end_flat_conv =tf.reshape(end_conv, [-1,end_conv_col*end_conv_row*end_conv_ch])\n",
    "   \n",
    "with tf.device('/gpu:1'): # connect flat layer with fully  connnected layer \n",
    "    h_fc1 = tf.nn.relu(tf.matmul(end_flat_conv , w_fc1)+ b_fc1)\n",
    "    h_fc1 = tf.nn.dropout(h_fc1, keep_prob)"
   ]
  },
  {
   "cell_type": "code",
   "execution_count": 15,
   "metadata": {
    "collapsed": false,
    "scrolled": true
   },
   "outputs": [],
   "source": [
    "\n",
    "#connect fully connected layer \n",
    "if restore_flag==False:\n",
    "    with tf.device('/gpu:1'):\n",
    "        with tf.variable_scope(\"fc2\") as scope:\n",
    "            try:\n",
    "                w_fc2=tf.get_variable(\"fc2_W\",[fully_ch1,fully_ch2] , initializer = tf.contrib.layers.xavier_initializer())\n",
    "            except:\n",
    "                scope.reuse_variables()\n",
    "                w_fc2=tf.get_variable(\"fc2_W\",[fully_ch1,fully_ch2] , initializer = tf.contrib.layers.xavier_initializer())\n",
    "            try:\n",
    "                b_fc2 = bias_variable([fully_ch2])\n",
    "            except:\n",
    "                scope.reuse_variables()\n",
    "                b_fc2 = bias_variable([fully_ch2])\n",
    "elif restore_flag==True:\n",
    "    with tf.device('/gpu:1'):\n",
    "        with tf.variable_scope(\"fc2\") as scope:\n",
    "            try:\n",
    "                w_fc2=tf.Variable(np.load(restore_path+'/w_fc2.npy'),name=\"fc2_W\")\n",
    "            except:\n",
    "                scope.reuse_variables()\n",
    "                w_fc2=tf.Variable(np.load(restore_path+'/w_fc2.npy'),name=\"fc2_W\")\n",
    "            try:\n",
    "                b_fc2=tf.Variable(np.load(restore_path+'/b_fc2.npy'),name=\"fc2_B\")\n",
    "            except:\n",
    "                scope.reuse_variables()\n",
    "                b_fc2=tf.Variable(np.load(restore_path+'/b_fc2.npy'),name=\"fc2_B\")\n",
    "\n",
    "with tf.device('/gpu:1'): # connect flat layer with fully  connnected layer \n",
    "    h_fc2 = tf.nn.relu(tf.matmul(h_fc1 , w_fc2)+ b_fc2)\n",
    "    h_fc2 = tf.nn.dropout(h_fc2, keep_prob)"
   ]
  },
  {
   "cell_type": "code",
   "execution_count": 16,
   "metadata": {
    "collapsed": false
   },
   "outputs": [],
   "source": [
    "#connect fully connected layer \n",
    "if restore_flag==False:\n",
    "    with tf.device('/gpu:1'):\n",
    "        with tf.variable_scope(\"fc3\") as scope:\n",
    "            try:\n",
    "                w_fc3=tf.get_variable(\"fc3_W\",[fully_ch2,fully_ch3] , initializer = tf.contrib.layers.xavier_initializer())\n",
    "            except:\n",
    "                scope.reuse_variables()\n",
    "                w_fc3=tf.get_variable(\"fc3_W\",[fully_ch2,fully_ch3] , initializer = tf.contrib.layers.xavier_initializer())\n",
    "            try:\n",
    "                b_fc3 = bias_variable([fully_ch3])\n",
    "            except:\n",
    "                scope.reuse_variables()\n",
    "                b_fc3 = bias_variable([fully_ch3])\n",
    "elif restore_flag==True:\n",
    "    with tf.device('/gpu:1'):\n",
    "        with tf.variable_scope(\"fc3\") as scope:\n",
    "            try:\n",
    "                w_fc3=tf.Variable(np.load(restore_path+'/w_fc3.npy'),name=\"fc3_W\")\n",
    "            except:\n",
    "                scope.reuse_variables()\n",
    "                w_fc3=tf.Variable(np.load(restore_path+'/w_fc3.npy'),name=\"fc3_W\")\n",
    "            try:\n",
    "                b_fc3=tf.Variable(np.load(restore_path+'/b_fc3.npy'),name=\"fc3_B\")\n",
    "            except:\n",
    "                scope.reuse_variables()\n",
    "                b_fc3=tf.Variable(np.load(restore_path+'/b_fc3.npy',name=\"fc3_B\"))\n",
    "\n",
    "with tf.device('/gpu:1'): # connect flat layer with fully  connnected layer \n",
    "    h_fc3 = tf.nn.relu(tf.matmul(h_fc2 , w_fc3)+ b_fc3)\n",
    "    h_fc3 = tf.nn.dropout(h_fc3, keep_prob)"
   ]
  },
  {
   "cell_type": "code",
   "execution_count": 17,
   "metadata": {
    "collapsed": true
   },
   "outputs": [],
   "source": [
    "end_fc=h_fc3"
   ]
  },
  {
   "cell_type": "code",
   "execution_count": 18,
   "metadata": {
    "collapsed": false
   },
   "outputs": [],
   "source": [
    "if restore_flag==False:\n",
    "    with tf.device('/gpu:1'):\n",
    "        with tf.variable_scope('fc3') as scope:\n",
    "            try:\n",
    "                w_end =tf.get_variable(\"end_W\",[fully_ch3 , n_classes ],initializer = tf.contrib.layers.xavier_initializer())\n",
    "            except:\n",
    "                scope.reuse_variables()\n",
    "                w_end =tf.get_variable(\"end_W\",[fully_ch3 , n_classes],initializer = tf.contrib.layers.xavier_initializer())\n",
    "            try:\n",
    "                b_end = bias_variable([n_classes])\n",
    "            except:\n",
    "                scope.reuse_variables()\n",
    "                b_end = bias_variable([n_classes])\n",
    "elif restore_flag==True:\n",
    "    with tf.device('/gpu:1'):\n",
    "        with tf.variable_scope(\"fc3\") as scope:\n",
    "            try:\n",
    "                w_end=tf.Variable(np.load(restore_path+'/w_end.npy'),name=\"end_W\")\n",
    "            except:\n",
    "                scope.reuse_variables()\n",
    "                w_end=tf.Variable(np.load(restore_path+'/w_end.npy'),name=\"end_W\")\n",
    "            try:\n",
    "                b_end=tf.Variable(np.load(restore_path+'/b_end.npy'),name=\"end_B\")\n",
    "            except:\n",
    "                scope.reuse_variables()\n",
    "                b_end=tf.Variable(np.load(restore_path+'/b_end.npy'),name=\"end_B\")\n",
    "\n",
    "with tf.device('/gpu:1'):  # join flat layer with fully  connnected layer \n",
    "    y_conv = tf.matmul(end_fc , w_end)+b_end\n",
    "    "
   ]
  },
  {
   "cell_type": "code",
   "execution_count": 19,
   "metadata": {
    "collapsed": true
   },
   "outputs": [],
   "source": [
    "def get_batch_list(folder_path):\n",
    "    list_files=os.walk(folder_path).next()[2]\n",
    "    print list_files\n",
    "    ret_train_img_list=[]\n",
    "    ret_train_lab_list=[]\n",
    "    for i , ele in enumerate(list_files):\n",
    "\n",
    "        if 'train'  in ele and 'img'in ele:\n",
    "            ret_train_img_list.append(ele)\n",
    "        elif 'train' in ele  and  'lab' in ele:\n",
    "            ret_train_lab_list.append(ele)\n",
    "    return ret_train_img_list ,ret_train_lab_list "
   ]
  },
  {
   "cell_type": "code",
   "execution_count": 20,
   "metadata": {
    "collapsed": false
   },
   "outputs": [
    {
     "name": "stdout",
     "output_type": "stream",
     "text": [
      "['train_img_1.npy', 'train_img_2.npy', 'train_img_3.npy', 'train_img_4.npy', 'train_lab_1.npy', 'train_lab_2.npy', 'train_lab_3.npy', 'train_lab_4.npy']\n"
     ]
    }
   ],
   "source": [
    "train_images , train_labels  = get_batch_list(file_locate)"
   ]
  },
  {
   "cell_type": "code",
   "execution_count": 21,
   "metadata": {
    "collapsed": false
   },
   "outputs": [
    {
     "name": "stdout",
     "output_type": "stream",
     "text": [
      "['train_img_1.npy', 'train_img_2.npy', 'train_img_3.npy', 'train_img_4.npy']\n",
      "['train_lab_1.npy', 'train_lab_2.npy', 'train_lab_3.npy', 'train_lab_4.npy']\n"
     ]
    }
   ],
   "source": [
    "def atoi(text):\n",
    "    return int(text) if text.isdigit() else text\n",
    "\n",
    "def natural_keys(text):\n",
    "    return [ atoi(c) for c in re.split('(\\d+)', text) ]\n",
    "\n",
    "\n",
    "train_images.sort(key=natural_keys)\n",
    "train_labels.sort(key = natural_keys)\n",
    "print(train_images)\n",
    "print(train_labels)"
   ]
  },
  {
   "cell_type": "code",
   "execution_count": 22,
   "metadata": {
    "collapsed": false
   },
   "outputs": [],
   "source": [
    "def save_numpy_weight( model_save_path ):\n",
    "    \n",
    "    np_w_conv1,np_w_conv2,np_w_conv3,np_w_conv4,np_w_conv5=sess.run([w_conv1,w_conv2,w_conv3,w_conv4,w_conv5])\n",
    "    np_b_conv1,np_b_conv2,np_b_conv3,np_b_conv4,np_b_conv5=sess.run([b_conv1,b_conv2,b_conv3,b_conv4,b_conv5])\n",
    "    np_w_fc1 , np_w_fc2,np_w_fc3,np_w_end=sess.run([w_fc1 , w_fc2,w_fc3 ,w_end])\n",
    "    np_b_fc1 , np_b_fc2,np_b_fc3,np_b_end=sess.run([b_fc1 , b_fc2,b_fc3,b_end])\n",
    "    \n",
    "    np_w_conv1=np.asarray(np_w_conv1)\n",
    "    np_w_conv2=np.asarray(np_w_conv2)\n",
    "    np_w_conv3=np.asarray(np_w_conv3)\n",
    "    np_w_conv4=np.asarray(np_w_conv4)\n",
    "    np_w_conv5=np.asarray(np_w_conv5)\n",
    "    \n",
    "    np_b_conv1=np.asarray(np_b_conv1)\n",
    "    np_b_conv2=np.asarray(np_b_conv2)\n",
    "    np_b_conv3=np.asarray(np_b_conv3)\n",
    "    np_b_conv4=np.asarray(np_b_conv4)\n",
    "    np_b_conv5=np.asarray(np_b_conv5)\n",
    "    \n",
    "    np_w_fc1=np.asarray(np_w_fc1)\n",
    "    np_w_fc2=np.asarray(np_w_fc2)\n",
    "    np_w_fc3=np.asarray(np_w_fc3)\n",
    "    np_w_end=np.asarray(np_w_end)\n",
    "    \n",
    "    np_b_fc1=np.asarray(np_b_fc1)\n",
    "    np_b_fc2=np.asarray(np_b_fc2)\n",
    "    np_b_fc3=np.asarray(np_b_fc3)\n",
    "    np_b_end=np.asarray(np_b_end)\n",
    "    \n",
    "    \n",
    "    np.save(model_save_path +'w_conv1' , np_w_conv1)\n",
    "    np.save(model_save_path +'w_conv2' , np_w_conv2)\n",
    "    np.save(model_save_path +'w_conv3' , np_w_conv3)\n",
    "    np.save(model_save_path +'w_conv4' , np_w_conv4)\n",
    "    np.save(model_save_path +'w_conv5' , np_w_conv5)\n",
    "    \n",
    "    np.save(model_save_path +'b_conv1' , np_b_conv1)\n",
    "    np.save(model_save_path +'b_conv2' , np_b_conv2)\n",
    "    np.save(model_save_path +'b_conv3' , np_b_conv3)\n",
    "    np.save(model_save_path +'b_conv4' , np_b_conv4)\n",
    "    np.save(model_save_path +'b_conv5' , np_b_conv5)\n",
    "\n",
    "    np.save(model_save_path +'w_fc1' , np_w_fc1)\n",
    "    np.save(model_save_path +'w_fc2' , np_w_fc2)\n",
    "    np.save(model_save_path +'w_fc3' , np_w_fc3)\n",
    "    np.save(model_save_path +'w_end' , np_w_end)\n",
    "    \n",
    "    np.save(model_save_path +'b_fc1' , np_b_fc1)\n",
    "    np.save(model_save_path +'b_fc2' , np_b_fc2)\n",
    "    np.save(model_save_path +'b_fc3' , np_b_fc3)\n",
    "    np.save(model_save_path +'b_end' , np_b_end)\n",
    "    \n",
    "    "
   ]
  },
  {
   "cell_type": "code",
   "execution_count": 23,
   "metadata": {
    "collapsed": true
   },
   "outputs": [],
   "source": [
    "def aug(np_img ,crop_img_row , crop_img_col , label):\n",
    "    \"\"\"\n",
    "    np_img must 4D \n",
    "    np_img shape : n , row , col , color_ch\n",
    "    \n",
    "    \"\"\"\n",
    "    n_img,img_row,img_col,color_ch=np.shape(np_img)\n",
    "    n_ret_img = n_img*(img_row - crop_img_row) * (img_col - crop_img_col)*3\n",
    "    ret_images = np.zeros([n_ret_img ,crop_img_row , crop_img_col,color_ch])\n",
    "    len_label= np.shape(label)[1]\n",
    "    ret_labels =  np.zeros([n_ret_img  ,len_label])\n",
    "    #print \"n_augmented image size : \" , n_ret_img \n",
    "    #print \"n classes :\", len_label\n",
    "    #copy label in factor by 2014\n",
    "    count=0\n",
    "    if len(np.shape(np_img))==2:\n",
    "        np_img=np.reshape(np_img , newshape = [np.shape(np_img)[0] , img_row , img_col ,color_ch])\n",
    "        print np.shape(np_img)\n",
    "    for n  in range(0,n_img):\n",
    "        for r in range(img_row - crop_img_row):\n",
    "            for c in range(img_col - crop_img_col):\n",
    "                cropped_img = np_img[n, r:crop_img_row +r , c:crop_img_col+c ,: ]\n",
    "                ret_images[count*3,:,:,:]=cropped_img  \n",
    "                ret_images[(count*3+1) , :,:,:] =np.fliplr(cropped_img )\n",
    "                ret_images[(count*3+2) , :,:,:] =np.flipud(cropped_img )\n",
    "                \n",
    "                ret_labels[count*3 , : ] = label[n,:]\n",
    "                ret_labels[count*3+1 , : ] = label[n,:]                \n",
    "                ret_labels[count*3+2 , : ] = label[n,:]\n",
    "                count+=1\n",
    "    return ret_images ,ret_labels"
   ]
  },
  {
   "cell_type": "code",
   "execution_count": 24,
   "metadata": {
    "collapsed": false
   },
   "outputs": [],
   "source": [
    "with tf.device('/gpu:1'):\n",
    "#sm_conv= tf.nn.softmax(y_conv)\n",
    "    #cross_entropy = -tf.reduce_sum(y_*tf.log(y_conv))\n",
    "    start_time = time.time()\n",
    "\n",
    "    regular=0.01*(tf.reduce_sum(tf.square(y_conv)))\n",
    "    pred=tf.nn.softmax(y_conv)\n",
    "    cost = tf.reduce_mean(tf.nn.softmax_cross_entropy_with_logits( y_conv, y_))\n",
    "with tf.device('/gpu:1'):\n",
    "    cost = cost+regular\n",
    "    train_step = tf.train.AdamOptimizer(learning_rate).minimize(cost) #1e-4\n",
    "    with tf.name_scope(\"accuracy\"):\n",
    "        with tf.name_scope('correct_prediction'):\n",
    "            correct_prediction = tf.equal(tf.argmax(y_conv,1) ,tf.argmax(y_,1))\n",
    "        with tf.name_scope('accuracy'):\n",
    "            accuracy = tf.reduce_mean(tf.cast(correct_prediction , \"float\")) \n"
   ]
  },
  {
   "cell_type": "code",
   "execution_count": 25,
   "metadata": {
    "collapsed": true
   },
   "outputs": [],
   "source": [
    "batch_count=0\n",
    "max_acc=0\n",
    "if divide_flag ==True:\n",
    "    n_batch =len(train_images)\n",
    "    batch_count=0\n",
    "show_Exception_flag=True\n",
    "val_acc_list=[]\n",
    "val_loss_list=[]\n",
    "train_acc_list=[]\n",
    "train_loss_list=[]"
   ]
  },
  {
   "cell_type": "code",
   "execution_count": 26,
   "metadata": {
    "collapsed": false
   },
   "outputs": [
    {
     "name": "stdout",
     "output_type": "stream",
     "text": [
      "it is recorded at :103\n"
     ]
    }
   ],
   "source": [
    "#dirname = '/home/ncc/notebook/mammo/result/'\n",
    "\n",
    "dirname='../result/'    \n",
    "count=0\n",
    "while(True):\n",
    "    if not os.path.isdir(dirname):\n",
    "        os.mkdir(dirname)\n",
    "        break\n",
    "    elif not os.path.isdir(dirname + str(count)):\n",
    "        dirname=dirname+str(count)\n",
    "        os.mkdir(dirname)\n",
    "        break\n",
    "    else:\n",
    "        count+=1\n",
    "print 'it is recorded at :'+str(count)\n",
    "f=open(dirname+\"/log.txt\",'w')"
   ]
  },
  {
   "cell_type": "code",
   "execution_count": 27,
   "metadata": {
    "collapsed": true
   },
   "outputs": [],
   "source": [
    "def test_aug(img ,lab, crop_row, crop_col  , color_ch , n_classes):\n",
    "    test_aug=np.zeros([10,img_row , img_col , color_ch])\n",
    "    test_lab=np.zeros([10,n_classes])\n",
    "    for i in range(10):\n",
    "        test_lab[i,:] = lab\n",
    "    ori_row , ori_col , color_ch = np.shape(img)\n",
    "    test_aug[0]=img[:crop_row , :crop_col, :]\n",
    "    test_aug[1]=img[-crop_row :, :crop_col, :]\n",
    "    test_aug[2]=img[:crop_row , -crop_col:, :]\n",
    "    test_aug[3]=img[-crop_row: , -crop_col:, :]\n",
    "    test_aug[4]=img[(ori_row/2)-(crop_row/2) :(ori_row/2)+(crop_row/2),\\\n",
    "                    (ori_col/2)-(crop_col/2) :(ori_col/2)+(crop_col/2), :]\n",
    "    img=np.fliplr(img)\n",
    "    test_aug[5]=img[:crop_row , :crop_row, :]\n",
    "    test_aug[6]=img[-crop_row :, :crop_row, :]\n",
    "    test_aug[7]=img[:crop_row , -crop_row:, :]\n",
    "    test_aug[8]=img[-crop_row: , -crop_row:, :]\n",
    "    test_aug[4]=img[(ori_row/2)-(crop_row/2) :(ori_row/2)+(crop_row/2),\\\n",
    "                    (ori_col/2)-(crop_col/2) :(ori_col/2)+(crop_col/2), :]\n",
    "    \n",
    "    return test_aug, test_lab"
   ]
  },
  {
   "cell_type": "code",
   "execution_count": 28,
   "metadata": {
    "collapsed": false
   },
   "outputs": [
    {
     "name": "stdout",
     "output_type": "stream",
     "text": [
      "WARNING:tensorflow:From <ipython-input-28-7dc674f6c656>:2 in <module>.: initialize_all_variables (from tensorflow.python.ops.variables) is deprecated and will be removed after 2017-03-02.\n",
      "Instructions for updating:\n",
      "Use `tf.global_variables_initializer` instead.\n"
     ]
    }
   ],
   "source": [
    "sess = tf.Session()\n",
    "sess.run(tf.initialize_all_variables())\n",
    "batch_xs , batch_ys = next_batch(batch_size, train_img , train_lab)\n",
    "#model_number=0\n",
    "file_locate='../Training_data_set/train_img_0.npy'\n",
    "batct_xs=np.load(file_locate)\n",
    "file_locate='../Training_data_set/train_lab_0.npy'\n",
    "batct_xs=np.load(file_locate)\n",
    "\n",
    "sess.run(train_step ,feed_dict={x:batch_xs , y_:batch_ys , keep_prob : 0.7})\n",
    "\n"
   ]
  },
  {
   "cell_type": "code",
   "execution_count": null,
   "metadata": {
    "collapsed": true
   },
   "outputs": [],
   "source": []
  },
  {
   "cell_type": "code",
   "execution_count": 29,
   "metadata": {
    "collapsed": false
   },
   "outputs": [
    {
     "name": "stdout",
     "output_type": "stream",
     "text": [
      "WARNING:tensorflow:From <ipython-input-29-ca31abfe8bb1>:3 in <module>.: initialize_all_variables (from tensorflow.python.ops.variables) is deprecated and will be removed after 2017-03-02.\n",
      "Instructions for updating:\n",
      "Use `tf.global_variables_initializer` instead.\n",
      "initial accuracy\n",
      "validation acc 0.805\n",
      "test acc 0.81\n",
      "model_was_restored\n",
      "validation accuracy: 0.805\n",
      "test accuracy: 0.81\n",
      "model_was_saved\n",
      "validation accuracy: 0.795\n",
      "test accuracy: 0.83\n",
      "model_was_saved\n",
      "validation accuracy: 0.83\n",
      "test accuracy: 0.81\n",
      "model_was_saved\n",
      "validation accuracy: 0.835\n",
      "test accuracy: 0.81\n",
      "model_was_saved\n",
      "validation accuracy: 0.835\n",
      "test accuracy: 0.84\n",
      "model_was_saved\n",
      "validation accuracy: 0.845\n",
      "test accuracy: 0.835\n",
      "model_was_saved\n",
      "validation accuracy: 0.835\n",
      "test accuracy: 0.86\n",
      "model_was_saved\n",
      "validation accuracy: 0.885\n",
      "test accuracy: 0.87\n",
      "model_was_saved\n",
      "validation accuracy: 0.89\n",
      "test accuracy: 0.87\n",
      "model_was_saved\n",
      "validation accuracy: 0.895\n",
      "test accuracy: 0.87\n",
      "model_was_saved\n",
      "validation accuracy: 0.905\n",
      "test accuracy: 0.865\n",
      "model_was_saved\n",
      "validation accuracy: 0.895\n",
      "test accuracy: 0.88\n",
      "model_was_saved\n",
      "validation accuracy: 0.89\n",
      "test accuracy: 0.9\n",
      "model_was_saved\n",
      "validation accuracy: 0.91\n",
      "test accuracy: 0.885\n",
      "model_was_saved\n",
      "validation accuracy: 0.89\n",
      "test accuracy: 0.92\n",
      "model_was_saved\n",
      "validation accuracy: 0.91\n",
      "test accuracy: 0.92\n",
      "model_was_saved\n",
      "validation accuracy: 0.925\n",
      "test accuracy: 0.91\n",
      "model_was_saved\n",
      "validation accuracy: 0.94\n",
      "test accuracy: 0.9\n",
      "model_was_saved\n",
      "validation accuracy: 0.925\n",
      "test accuracy: 0.93\n",
      "model_was_saved\n",
      "validation accuracy: 0.91\n",
      "test accuracy: 0.95\n",
      "model_was_saved\n",
      "validation accuracy: 0.93\n",
      "test accuracy: 0.935\n",
      "model_was_saved\n",
      "validation accuracy: 0.95\n",
      "test accuracy: 0.92\n",
      "model_was_saved\n",
      "validation accuracy: 0.94\n",
      "test accuracy: 0.935\n",
      "model_was_saved\n",
      "validation accuracy: 0.92\n",
      "test accuracy: 0.96\n",
      "model_was_saved\n",
      "validation accuracy: 0.96\n",
      "test accuracy: 0.93\n"
     ]
    },
    {
     "ename": "NameError",
     "evalue": "name 'test_img' is not defined",
     "output_type": "error",
     "traceback": [
      "\u001b[0;31m\u001b[0m",
      "\u001b[0;31mNameError\u001b[0mTraceback (most recent call last)",
      "\u001b[0;32m<ipython-input-29-ca31abfe8bb1>\u001b[0m in \u001b[0;36m<module>\u001b[0;34m()\u001b[0m\n\u001b[1;32m    158\u001b[0m         \u001b[0mnp\u001b[0m\u001b[0;34m.\u001b[0m\u001b[0msave\u001b[0m\u001b[0;34m(\u001b[0m\u001b[0mmodel_save_path\u001b[0m\u001b[0;34m+\u001b[0m\u001b[0;34m'train_acc'\u001b[0m\u001b[0;34m,\u001b[0m\u001b[0mnp\u001b[0m\u001b[0;34m.\u001b[0m\u001b[0masarray\u001b[0m\u001b[0;34m(\u001b[0m\u001b[0mtrain_acc_list\u001b[0m\u001b[0;34m)\u001b[0m\u001b[0;34m)\u001b[0m\u001b[0;34m\u001b[0m\u001b[0m\n\u001b[1;32m    159\u001b[0m         \u001b[0mnp\u001b[0m\u001b[0;34m.\u001b[0m\u001b[0msave\u001b[0m\u001b[0;34m(\u001b[0m\u001b[0mmodel_save_path\u001b[0m\u001b[0;34m+\u001b[0m\u001b[0;34m'train_loss'\u001b[0m\u001b[0;34m,\u001b[0m\u001b[0mnp\u001b[0m\u001b[0;34m.\u001b[0m\u001b[0masarray\u001b[0m\u001b[0;34m(\u001b[0m\u001b[0mtrain_loss_list\u001b[0m\u001b[0;34m)\u001b[0m\u001b[0;34m)\u001b[0m\u001b[0;34m\u001b[0m\u001b[0m\n\u001b[0;32m--> 160\u001b[0;31m         \u001b[0msoftmax_\u001b[0m\u001b[0;34m=\u001b[0m\u001b[0msess\u001b[0m\u001b[0;34m.\u001b[0m\u001b[0mrun\u001b[0m\u001b[0;34m(\u001b[0m \u001b[0mpred\u001b[0m \u001b[0;34m,\u001b[0m \u001b[0mfeed_dict\u001b[0m\u001b[0;34m=\u001b[0m\u001b[0;34m{\u001b[0m\u001b[0mx\u001b[0m\u001b[0;34m:\u001b[0m\u001b[0mtest_img\u001b[0m  \u001b[0;34m,\u001b[0m\u001b[0my_\u001b[0m\u001b[0;34m:\u001b[0m\u001b[0mtest_lab\u001b[0m\u001b[0;34m,\u001b[0m \u001b[0mkeep_prob\u001b[0m\u001b[0;34m:\u001b[0m \u001b[0;36m1.0\u001b[0m\u001b[0;34m}\u001b[0m\u001b[0;34m)\u001b[0m\u001b[0;34m\u001b[0m\u001b[0m\n\u001b[0m\u001b[1;32m    161\u001b[0m         \u001b[0mtest_accuracy\u001b[0m\u001b[0;34m,\u001b[0m\u001b[0mtest_loss\u001b[0m\u001b[0;34m=\u001b[0m \u001b[0msess\u001b[0m\u001b[0;34m.\u001b[0m\u001b[0mrun\u001b[0m\u001b[0;34m(\u001b[0m\u001b[0;34m[\u001b[0m\u001b[0maccuracy\u001b[0m\u001b[0;34m,\u001b[0m\u001b[0mcost\u001b[0m\u001b[0;34m]\u001b[0m  \u001b[0;34m,\u001b[0m \u001b[0mfeed_dict\u001b[0m\u001b[0;34m=\u001b[0m\u001b[0;34m{\u001b[0m\u001b[0mx\u001b[0m\u001b[0;34m:\u001b[0m\u001b[0mtest_img\u001b[0m \u001b[0;34m,\u001b[0m \u001b[0my_\u001b[0m\u001b[0;34m:\u001b[0m\u001b[0mtest_lab\u001b[0m \u001b[0;34m,\u001b[0m \u001b[0mkeep_prob\u001b[0m\u001b[0;34m:\u001b[0m \u001b[0;36m1.0\u001b[0m\u001b[0;34m}\u001b[0m\u001b[0;34m)\u001b[0m\u001b[0;34m\u001b[0m\u001b[0m\n\u001b[1;32m    162\u001b[0m         \u001b[0;32mprint\u001b[0m\u001b[0;34m(\u001b[0m\u001b[0;34m\"--- Training Time : %s ---\"\u001b[0m \u001b[0;34m%\u001b[0m \u001b[0;34m(\u001b[0m\u001b[0mtime\u001b[0m\u001b[0;34m.\u001b[0m\u001b[0mtime\u001b[0m\u001b[0;34m(\u001b[0m\u001b[0;34m)\u001b[0m \u001b[0;34m-\u001b[0m \u001b[0mstart_time\u001b[0m\u001b[0;34m)\u001b[0m\u001b[0;34m)\u001b[0m\u001b[0;34m\u001b[0m\u001b[0m\n",
      "\u001b[0;31mNameError\u001b[0m: name 'test_img' is not defined"
     ]
    }
   ],
   "source": [
    "for n in range(10):\n",
    "    sess = tf.Session()\n",
    "    sess.run(tf.initialize_all_variables())\n",
    "    with tf.device('/gpu:1'):\n",
    "        train_ind=0\n",
    "        for i in range(iterate):    \n",
    "            batch_xs , batch_ys = next_batch(batch_size, train_img , train_lab)\n",
    "            #batch_val_xs  , batch_val_ys = next_batch(20 , val_img , val_lab)\n",
    "            if i%100 ==0: # in here add to validation \n",
    "\n",
    "                try:\n",
    "                    if aug_flag==True:\n",
    "                        print 'aug'\n",
    "                        aug_val_acc_list=[]\n",
    "                        aug_val_loss_list=[]\n",
    "                        aug_test_acc_list=[]\n",
    "                        aug_test_loss_list=[]\n",
    "\n",
    "                        for k in range(len(val_img)):\n",
    "                            aug_val_img , aug_val_lab=test_aug(val_img[k] , val_lab[k] , 64,64, 1 , 2)\n",
    "                            aug_test_img , aug_test_lab=test_aug(test_img[k] , test_lab[k] , 64,64, 1 , 2)                    \n",
    "                            val_accuracy ,val_loss = sess.run( [accuracy,cost] , feed_dict={x:aug_val_img , y_:aug_val_lab , keep_prob: 1.0})        \n",
    "                            test_accuracy,test_loss= sess.run([accuracy,cost]  , feed_dict={x:aug_test_img , y_:aug_test_lab , keep_prob: 1.0})\n",
    "                            aug_val_acc_list.append(val_accuracy);aug_val_loss_list.append(val_loss);\n",
    "                            aug_test_acc_list.append(test_accuracy);aug_test_loss_list.append(test_loss);\n",
    "                        val_accuracy=np.mean(np.asarray(aug_val_acc_list));val_loss=np.mean(np.asarray(aug_val_loss_list))\n",
    "                        test_accuracy=np.mean(np.asarray(aug_test_acc_list));test_loss=np.mean(np.asarray(aug_test_loss_list))\n",
    "                        print 'a'\n",
    "                        print i\n",
    "                        if i==0:\n",
    "                            print 'a'\n",
    "                            train_accuracy=0.0\n",
    "                            train_loss=0.0\n",
    "                    else:\n",
    "                        val_batch_xs , val_batch_ys=next_batch(200,val_img,val_lab)\n",
    "                        test_batch_xs , test_batch_ys=next_batch(200,val_img,val_lab)\n",
    "                        \n",
    "                        val_accuracy ,val_loss = sess.run( [accuracy,cost] , feed_dict={x:val_batch_xs , y_:val_batch_ys , keep_prob: 1.0})        \n",
    "                        train_accuracy ,train_loss= sess.run([accuracy,cost] , feed_dict={x:batch_xs , y_:batch_ys , keep_prob: 1.0})        \n",
    "                        test_accuracy,test_loss= sess.run([accuracy,cost]  , feed_dict={x:test_batch_xs , y_:test_batch_ys , keep_prob: 1.0})\n",
    "                    if i==0:\n",
    "                        print \"initial accuracy\"\n",
    "                        print \"validation acc\",val_accuracy\n",
    "                        print \"test acc\",test_accuracy\n",
    "                    \n",
    "                    if (val_accuracy+test_accuracy)/2 > max_acc :\n",
    "                        if save_flag == True and i == 0:\n",
    "                            print 'model_was_restored'\n",
    "                        elif save_flag == True and i != 0:\n",
    "                            print 'model_was_saved'\n",
    "                        print 'validation accuracy:',val_accuracy\n",
    "                        print 'test accuracy:',test_accuracy\n",
    "\n",
    "                        if save_flag == True and i != 0:\n",
    "                            save_numpy_weight(model_save_path)\n",
    "                        max_acc=(val_accuracy+test_accuracy)/2\n",
    "\n",
    "\n",
    "                except Exception as e:\n",
    "                    if show_Exception_flag:\n",
    "                        print str(e)\n",
    "                        show_Exception_flag=False\n",
    "\n",
    "                    list_acc=[]\n",
    "                    list_loss=[]\n",
    "                    n_divide=len(val_img)/batch_size\n",
    "                    j=0\n",
    "\n",
    "                    #validation \n",
    "                    for j in range(n_divide):\n",
    "                        # j*batch_size :(j+1)*batch_size\n",
    "                        val_accuracy,val_loss = sess.run([accuracy ,cost], feed_dict={x:val_img[ j*batch_size :(j+1)*batch_size] , y_:val_lab[ j*batch_size :(j+1)*batch_size ] , keep_prob: 1.0})        \n",
    "                        list_acc.append(float(val_accuracy));list_loss.append(float(val_loss))\n",
    "                    val_accuracy,val_loss = sess.run([accuracy ,cost], feed_dict={x:val_img[ j*batch_size :] , y_:val_lab[ j*batch_size :  ] , keep_prob: 1.0})         \n",
    "                    list_acc=np.asarray(list_acc);list_loss= np.asarray(list_loss);\n",
    "                    val_accuracy=np.mean(list_acc);val_loss = np.mean(list_loss); \n",
    "                    val_acc_list.append(val_accuracy)\n",
    "                    val_loss_list.append(val_loss)\n",
    "\n",
    "                    if (val_accuracy+test_accuracy)/2 > max_acc :\n",
    "                        if save_flag == True and i == 0:\n",
    "                            print 'model_was_restored'\n",
    "                        elif save_flag == True and i != 0:\n",
    "                            print 'model_was_saved'\n",
    "\n",
    "                        if save_flag == True and i != 0:\n",
    "                            save_numpy_weight(model_save_path)\n",
    "                        max_acc=(val_accuracy+test_accuracy)/2\n",
    "\n",
    "                    #testing    \n",
    "                    test_list_acc=[]\n",
    "                    test_list_loss=[]        \n",
    "                    for j in range(n_divide):    \n",
    "                        # j*batch_size :(j+1)*batch_size\n",
    "                        test_accuracy,test_loss = sess.run([accuracy ,cost], feed_dict={x:test_img[ j*batch_size :(j+1)*batch_size] , y_:test_lab[ j*batch_size :(j+1)*batch_size ] , keep_prob: 1.0})        \n",
    "                        test_list_acc.append(float(test_accuracy));test_list_loss.append(float(test_loss))\n",
    "                    #right above code have to modify\n",
    "                    test_accuracy,test_loss = sess.run([accuracy ,cost], feed_dict={x:val_img[ j*batch_size :] , y_:val_lab[ j*batch_size :  ] , keep_prob: 1.0})         \n",
    "                    test_list_acc.append(test_accuracy);test_list_loss.append(test_loss)\n",
    "                    #result = sess.run(sm_conv , feed_dict = {x:val_img , y_:batch_ys , keep_prob :1.0})\n",
    "                    train_accuracy ,train_loss = sess.run( [accuracy ,cost], feed_dict={x:batch_xs , y_:batch_ys , keep_prob: 1.0})        \n",
    "\n",
    "                ###record val_acc , loss  and train acc ,and loss\n",
    "                val_acc_list.append(val_accuracy);val_loss_list.append(val_loss)\n",
    "                train_acc_list.append(train_accuracy);train_loss_list.append(train_loss)                \n",
    "                ###record train_acc,loss to file\n",
    "                #print(\"step %d , training  accuracy %g\" %(i,train_accuracy))\n",
    "                #print(\"step %d , loss : %g\" %(i,train_loss))\n",
    "                train_str = 'step:\\t'+str(i)+'\\tval_loss:\\t'+str(train_loss) +'\\tval accuracy:\\t'+str(train_accuracy)+'\\n'\n",
    "                ###record val_acc,loss to file\n",
    "                #print(\"step %d , validation  accuracy %g\" %(i,val_accuracy))\n",
    "                #print(\"step %d , validation loss : %g\" %(i,val_loss))\n",
    "                val_str = 'step:\\t'+str(i)+'\\tval_loss:\\t'+str(val_loss) +'\\tval accuracy:\\t'+str(val_accuracy)+'\\n'\n",
    "                ###record val_acc,loss to file\n",
    "                #print(\"step %d , test  accuracy %g\" %(i,test_accuracy))\n",
    "                #print(\"step %d , test loss : %g\" %(i,test_loss))           \n",
    "\n",
    "                f.write(val_str)\n",
    "                f.write(train_str)\n",
    "                if divide_flag ==True:\n",
    "                    batch_count+=1\n",
    "                ####training####\n",
    "                if aug_flag==True:\n",
    "                    if train_ind == len(train_img):\n",
    "                        train_ind=0\n",
    "                    aug_imgs , aug_labs=aug(train_img[train_ind:train_ind+1] ,64,64,train_lab[train_ind:train_ind+1])\n",
    "                    try:\n",
    "                        sess.run(train_step ,feed_dict={x:aug_imgs , y_:aug_labs , keep_prob : 0.7})\n",
    "                        train_ind+=1\n",
    "                    except Exception as e:\n",
    "\n",
    "                        if show_Exception_flag:\n",
    "                            print str(e)\n",
    "                            show_Exception_flag=False\n",
    "                        acc_=[]\n",
    "                        loss_=[]\n",
    "                        divide=len(aug_imgs)/batch_size\n",
    "                        for d in range(divide):\n",
    "                            _,acc,loss=sess.run([train_step,accuracy,cost] ,feed_dict={x:aug_imgs[d*batch_size:(d+1)*batch_size] ,\\\n",
    "                                                            y_:aug_labs[d*batch_size:(d+1)*batch_size] , keep_prob : 0.7})\n",
    "                            acc_.append(acc);loss_.append(loss);\n",
    "                        _,acc,loss=sess.run([train_step,accuracy,cost],feed_dict={x:aug_imgs[d*batch_size:] , y_:aug_labs[d*batch_size:] , keep_prob : 0.7})\n",
    "                        acc_.append(acc);loss_.append(loss)\n",
    "                        train_accuracy=np.mean(np.asarray(acc_))\n",
    "                        train_loss=np.mean(np.asarray(loss_))\n",
    "                        train_ind+=1\n",
    "\n",
    "\n",
    "\n",
    "                else:\n",
    "                    sess.run(train_step ,feed_dict={x:batch_xs , y_:batch_ys , keep_prob : 0.7})\n",
    "\n",
    "\n",
    "\n",
    "\n",
    "\n",
    "        np.save(model_save_path+'val_acc',np.asarray(val_acc_list))\n",
    "        np.save(model_save_path+'val_loss',np.asarray(val_loss_list))\n",
    "        np.save(model_save_path+'train_acc',np.asarray(train_acc_list))\n",
    "        np.save(model_save_path+'train_loss',np.asarray(train_loss_list))\n",
    "        softmax_=sess.run( pred , feed_dict={x:test_img  ,y_:test_lab, keep_prob: 1.0})\n",
    "        test_accuracy,test_loss= sess.run([accuracy,cost]  , feed_dict={x:test_img , y_:test_lab , keep_prob: 1.0})\n",
    "        print(\"--- Training Time : %s ---\" % (time.time() - start_time))\n",
    "        train_time=\"--- Training Time : ---:\\t\" +str(time.time() - start_time)\n",
    "        f.write(train_time)\n",
    "        ##start"
   ]
  },
  {
   "cell_type": "code",
   "execution_count": null,
   "metadata": {
    "collapsed": false,
    "scrolled": false
   },
   "outputs": [],
   "source": [
    "print softmax_"
   ]
  },
  {
   "cell_type": "code",
   "execution_count": null,
   "metadata": {
    "collapsed": false
   },
   "outputs": [],
   "source": [
    "test_img=np.load('/home/seongjung/save_numpy/1.npy')\n",
    "print np.shape(test_img)\n"
   ]
  },
  {
   "cell_type": "code",
   "execution_count": null,
   "metadata": {
    "collapsed": false
   },
   "outputs": [],
   "source": [
    "try:\n",
    "    softmax_=sess.run( accuracy , feed_dict={x:test_img  , keep_prob: 1.0})\n",
    "    test_accuracy = sess.run( accuracy , feed_dict={x:test_img , y_:test_lab , keep_prob: 1.0})        \n",
    "    test_loss = sess.run(cost , feed_dict = {x:test_img , y_: test_lab , keep_prob: 1.0})\n",
    "\n",
    "    #result = sess.run(sm_conv , feed_dict = {x:test_img , y_:batch_ys , keep_prob :1.0})\n",
    "    print(\"step %d , testidation  accuracy %g\" %(i,test_accuracy))\n",
    "    print(\"step %d , testidation loss : %g\" %(i,test_loss))\n",
    "    test_str = 'step:\\t'+str(i)+'\\ttest_loss:\\t'+str(test_loss) +'\\ttest accuracy:\\t'+str(test_accuracy)+'\\n'\n",
    "\n",
    "    f.write(test_str)\n",
    "except :\n",
    "    list_acc=[]\n",
    "    list_loss=[]\n",
    "    n_divide=len(test_img)/batch_size\n",
    "    for j in range(n_divide):\n",
    "\n",
    "        # j*batch_size :(j+1)*batch_size\n",
    "        test_accuracy,test_loss = sess.run([accuracy ,cost], feed_dict={x:test_img[ j*batch_size :(j+1)*batch_size] , y_:test_lab[ j*batch_size :(j+1)*batch_size ] , keep_prob: 1.0})        \n",
    "        list_acc.append(float(test_accuracy))\n",
    "        list_loss.append(float(test_loss))\n",
    "    test_accuracy , test_loss=sess.run([accuracy,cost] , feed_dict={x:test_img[(j+1)*batch_size : ] , y_:test_lab[(j+1)*(batch_size) : ] , keep_prob : 1.0})\n",
    "    #right above code have to modify\n",
    "\n",
    "    list_acc.append(test_accuracy)\n",
    "    list_loss.append(test_loss)\n",
    "    list_acc=np.asarray(list_acc)\n",
    "    list_loss= np.asarray(list_loss)\n",
    "\n",
    "    test_accuracy=np.mean(list_acc)\n",
    "    test_loss = np.mean(list_loss)\n",
    "\n",
    "    #result = sess.run(sm_conv , feed_dict = {x:test_img , y_:batch_ys , keep_prob :1.0})\n",
    "    print(\"step %d , testidation  accuracy %g\" %(i,test_accuracy))\n",
    "    print(\"step %d , testidation loss : %g\" %(i,test_loss))\n",
    "    test_str = 'step:\\t'+str(i)+'\\ttest_loss:\\t'+str(test_loss) +'\\ttest accuracy:\\t'+str(test_accuracy)+'\\n'\n",
    "\n",
    "    f.write(test_str)\n"
   ]
  },
  {
   "cell_type": "code",
   "execution_count": null,
   "metadata": {
    "collapsed": true
   },
   "outputs": [],
   "source": [
    "sess.close()\n"
   ]
  },
  {
   "cell_type": "code",
   "execution_count": null,
   "metadata": {
    "collapsed": false
   },
   "outputs": [],
   "source": [
    "plt.imshow(train_img[8])\n",
    "train_lab[8]"
   ]
  },
  {
   "cell_type": "code",
   "execution_count": null,
   "metadata": {
    "collapsed": false
   },
   "outputs": [],
   "source": [
    "plt.imshow(test_img[1])"
   ]
  },
  {
   "cell_type": "code",
   "execution_count": null,
   "metadata": {
    "collapsed": true
   },
   "outputs": [],
   "source": []
  }
 ],
 "metadata": {
  "anaconda-cloud": {},
  "kernelspec": {
   "display_name": "Python 2",
   "language": "python",
   "name": "python2"
  },
  "language_info": {
   "codemirror_mode": {
    "name": "ipython",
    "version": 2
   },
   "file_extension": ".py",
   "mimetype": "text/x-python",
   "name": "python",
   "nbconvert_exporter": "python",
   "pygments_lexer": "ipython2",
   "version": "2.7.6"
  }
 },
 "nbformat": 4,
 "nbformat_minor": 0
}
